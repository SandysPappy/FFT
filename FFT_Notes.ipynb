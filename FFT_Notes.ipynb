{
 "cells": [
  {
   "cell_type": "markdown",
   "id": "4dba1ae3",
   "metadata": {},
   "source": [
    "# Fast Fourier Transform\n",
    "\n",
    "[MIT Open Courseware Lecture](https://www.youtube.com/watch?v=iTMn0Kt18tg&t=88s&ab_channel=MITOpenCourseWare)\n",
    "\n",
    "[Markdown Cheatsheet](https://rpruim.github.io/s341/S19/from-class/MathinRmd.html)\n",
    "\n",
    "[Python wave package (.wav files)](https://docs.python.org/3/library/wave.html)\n",
    "\n",
    "[WAVE PCM soundfile format](http://soundfile.sapp.org/doc/WaveFormat/)"
   ]
  },
  {
   "cell_type": "markdown",
   "id": "c324ba83",
   "metadata": {},
   "source": [
    "- Example of a divide an conquer algorithm\n",
    "- used all the freaking time. Especially digital and signal processing"
   ]
  },
  {
   "cell_type": "markdown",
   "id": "47ae1c45",
   "metadata": {},
   "source": [
    "\\begin{align*}\n",
    "&Various\\ Representations\\ of\\ Polynomials\\ with\\ n\\ Terms\\\\\n",
    "\\\\\n",
    "&A(x) = a_0 + a_1x + a_2x^2 +... + a_nx^{n-1}& &Algebraic&\\\\\n",
    "&\\sum_{k=0}^{n-1} a_kx^k& &Summation& \\\\\n",
    "&\\langle a_0, a_1, a_2, ..., a_{n-1} \\rangle & &Vector\\ of\\ real\\ numbers&\\\\\n",
    "\\end{align*}\n"
   ]
  },
  {
   "cell_type": "markdown",
   "id": "1864668f",
   "metadata": {},
   "source": [
    "# Operations on Polynomials\n",
    "\n",
    "## Evaluation, O(n)\n",
    "Given function $A(x)$ and an $x_0$, compute $A(x_0)$\n",
    "\n",
    "#### Use Horner's Rule \n",
    "Evaluation method. O(n).\n",
    "\n",
    "## Addition, O(n)\n",
    "Given $A(x)$ & $B(x)$,\n",
    "\n",
    "Calculate $C(x)$ $|$ $C(x) = A(x) + B(x)$, $\\forall x$\n",
    "\n",
    "$\\sum_{k=0}^{n-1}C(x_k) = \\sum_{k=0}^{n-1}A(x_k) + \\sum_{k=0}^{n-1}B(x_k)$, which is O(2*n) = O(n)\n",
    "\n",
    "## Multiplication, O(nlogn)\n",
    "Tricky.\n",
    "\n",
    "Given $A(x_k)$ & $B(x_k)$,\n",
    "\n",
    "Calculate $C(x_k)$ $|$ $C(x_k) = A(x_k) \\cdot  B(x_k)$\n",
    "\n",
    "The time spent in a dot product is equivalent to convolution."
   ]
  },
  {
   "cell_type": "markdown",
   "id": "c5e8b001",
   "metadata": {},
   "source": []
  },
  {
   "cell_type": "markdown",
   "id": "5683d1f4",
   "metadata": {},
   "source": [
    "## Reading in .wav file with Numpy\n",
    "\n",
    "### download free opensource piano WAVE file\n",
    "\n",
    "`curl -o piano.wav  'https://cdn.freesound.org/sounds/678/678568-e6e4a755-0846-485b-8\n",
    "c17-ffedace51c0b?filename=678568__josefpres__piano-loops-082-octave-down-short-loop-120-bpm.wav'`\n"
   ]
  },
  {
   "cell_type": "code",
   "execution_count": 1,
   "id": "f4f32cdf",
   "metadata": {},
   "outputs": [],
   "source": [
    "\n",
    "import numpy as np    \n",
    "\n"
   ]
  },
  {
   "cell_type": "code",
   "execution_count": 4,
   "id": "bebe3223",
   "metadata": {},
   "outputs": [
    {
     "name": "stdout",
     "output_type": "stream",
     "text": [
      "True\n"
     ]
    }
   ],
   "source": [
    "header = ''\n",
    "\n",
    "# first 4 bytes should say 'RIFF' in ASCII as per The Canonical WAVE file format\n",
    "header = np.fromfile(audioFile, dtype=np.byte, offset=0, count=4)\n",
    "    \n",
    "\n",
    "        "
   ]
  },
  {
   "cell_type": "markdown",
   "id": "78e86c1c",
   "metadata": {},
   "source": [
    "According to the RIFF WAV format, make sure the first 4 bytes starts with the characters 'RIFF' in ASCII."
   ]
  },
  {
   "cell_type": "code",
   "execution_count": 5,
   "id": "0f32e54d",
   "metadata": {},
   "outputs": [
    {
     "data": {
      "text/plain": [
       "'RIFF'"
      ]
     },
     "execution_count": 5,
     "metadata": {},
     "output_type": "execute_result"
    }
   ],
   "source": [
    "# Converts np array to binary ascii representation\n",
    "header.tobytes().decode('ascii')"
   ]
  },
  {
   "cell_type": "code",
   "execution_count": null,
   "id": "e31061f7",
   "metadata": {},
   "outputs": [],
   "source": []
  }
 ],
 "metadata": {
  "kernelspec": {
   "display_name": "Python [conda env:PyTorchCourse] *",
   "language": "python",
   "name": "conda-env-PyTorchCourse-py"
  },
  "language_info": {
   "codemirror_mode": {
    "name": "ipython",
    "version": 3
   },
   "file_extension": ".py",
   "mimetype": "text/x-python",
   "name": "python",
   "nbconvert_exporter": "python",
   "pygments_lexer": "ipython3",
   "version": "3.9.13"
  }
 },
 "nbformat": 4,
 "nbformat_minor": 5
}
