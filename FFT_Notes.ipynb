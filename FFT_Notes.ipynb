{
 "cells": [
  {
   "cell_type": "markdown",
   "id": "4dba1ae3",
   "metadata": {},
   "source": [
    "# Fast Fourier Transform\n",
    "\n",
    "[MIT Open Courseware Lecture](https://www.youtube.com/watch?v=iTMn0Kt18tg&t=88s&ab_channel=MITOpenCourseWare)\n",
    "\n",
    "[Markdown Cheatsheet](https://rpruim.github.io/s341/S19/from-class/MathinRmd.html)\n",
    "\n",
    "[Python wave package (.wav files)](https://docs.python.org/3/library/wave.html)\n",
    "\n",
    "[WAVE PCM soundfile format](http://soundfile.sapp.org/doc/WaveFormat/)"
   ]
  },
  {
   "cell_type": "markdown",
   "id": "c324ba83",
   "metadata": {},
   "source": [
    "- Example of a divide an conquer algorithm\n",
    "- used all the freaking time. Especially digital and signal processing"
   ]
  },
  {
   "cell_type": "markdown",
   "id": "47ae1c45",
   "metadata": {},
   "source": [
    "\\begin{align*}\n",
    "&Various\\ Representations\\ of\\ Polynomials\\ with\\ n\\ Terms\\\\\n",
    "\\\\\n",
    "&A(x) = a_0 + a_1x + a_2x^2 +... + a_nx^{n-1}& &Algebraic&\\\\\n",
    "&\\sum_{k=0}^{n-1} a_kx^k& &Summation& \\\\\n",
    "&\\langle a_0, a_1, a_2, ..., a_{n-1} \\rangle & &Vector\\ of\\ real\\ numbers&\\\\\n",
    "\\end{align*}\n"
   ]
  },
  {
   "cell_type": "markdown",
   "id": "1864668f",
   "metadata": {},
   "source": [
    "# Operations on Polynomials\n",
    "\n",
    "## Evaluation, O(n)\n",
    "Given function $A(x)$ and an $x_0$, compute $A(x_0)$\n",
    "\n",
    "#### Use Horner's Rule \n",
    "Evaluation method. O(n).\n",
    "\n",
    "## Addition, O(n)\n",
    "Given $A(x)$ & $B(x)$,\n",
    "\n",
    "Calculate $C(x)$ $|$ $C(x) = A(x) + B(x)$, $\\forall x$\n",
    "\n",
    "$\\sum_{k=0}^{n-1}C(x_k) = \\sum_{k=0}^{n-1}A(x_k) + \\sum_{k=0}^{n-1}B(x_k)$, which is O(2*n) = O(n)\n",
    "\n",
    "## Multiplication, O(nlogn)\n",
    "Tricky.\n",
    "\n",
    "Given $A(x_k)$ & $B(x_k)$,\n",
    "\n",
    "Calculate $C(x_k)$ $|$ $C(x_k) = A(x_k) \\cdot  B(x_k)$\n",
    "\n",
    "The time spent in a dot product is equivalent to convolution."
   ]
  },
  {
   "cell_type": "markdown",
   "id": "c5e8b001",
   "metadata": {},
   "source": []
  },
  {
   "cell_type": "markdown",
   "id": "3bdd7024",
   "metadata": {},
   "source": [
    "## Reading in .wav file with Numpy\n",
    "\n",
    "#### download free opensource piano WAVE file:\n",
    "\n",
    "`curl -o piano.wav  'https://cdn.freesound.org/sounds/678/678568-e6e4a755-0846-485b-8\n",
    "c17-ffedace51c0b?filename=678568__josefpres__piano-loops-082-octave-down-short-loop-120-bpm.wav'`\n",
    "\n",
    "#### Documentation for [np.fromfile](https://numpy.org/doc/stable/reference/generated/numpy.fromfile.html)\n",
    "#### Documentation for [wave library](https://docs.python.org/3/library/wave.html)\n",
    "\n"
   ]
  },
  {
   "cell_type": "code",
   "execution_count": 1,
   "id": "66ab8d6e",
   "metadata": {},
   "outputs": [],
   "source": [
    "import wave\n",
    "import numpy as np\n",
    "import matplotlib.pyplot as plt\n",
    "\n",
    "audio_file = 'piano.wav'"
   ]
  },
  {
   "cell_type": "markdown",
   "id": "c216acdb",
   "metadata": {},
   "source": [
    "According to the RIFF WAV format, make sure the first 4 bytes starts with the characters 'RIFF' in ASCII."
   ]
  },
  {
   "cell_type": "code",
   "execution_count": 2,
   "id": "9054963a",
   "metadata": {},
   "outputs": [],
   "source": [
    "def to_byte(boolean):\n",
    "    return boolean*8"
   ]
  },
  {
   "cell_type": "code",
   "execution_count": 8,
   "id": "9d3e6d02",
   "metadata": {},
   "outputs": [],
   "source": [
    "# Reads in the WAVE file's binary header which is 44 bytes\n",
    "header = np.fromfile(audio_file, dtype=bool, offset=0, count=8*44)"
   ]
  },
  {
   "cell_type": "code",
   "execution_count": 11,
   "id": "42faf643",
   "metadata": {
    "scrolled": true
   },
   "outputs": [
    {
     "ename": "UnicodeDecodeError",
     "evalue": "'ascii' codec can't decode byte 0x8b in position 5: ordinal not in range(128)",
     "output_type": "error",
     "traceback": [
      "\u001b[0;31m---------------------------------------------------------------------------\u001b[0m",
      "\u001b[0;31mUnicodeDecodeError\u001b[0m                        Traceback (most recent call last)",
      "Input \u001b[0;32mIn [11]\u001b[0m, in \u001b[0;36m<cell line: 5>\u001b[0;34m()\u001b[0m\n\u001b[1;32m      1\u001b[0m \u001b[38;5;66;03m# Converts np array to binary ascii representation\u001b[39;00m\n\u001b[1;32m      2\u001b[0m \u001b[38;5;66;03m# first 4 bytes should say 'RIFF' in ASCII as per The Canonical WAVE file format\u001b[39;00m\n\u001b[1;32m      3\u001b[0m header[\u001b[38;5;241m0\u001b[39m:\u001b[38;5;241m4\u001b[39m]\u001b[38;5;241m.\u001b[39mtobytes()\u001b[38;5;241m.\u001b[39mdecode(\u001b[38;5;124m'\u001b[39m\u001b[38;5;124mascii\u001b[39m\u001b[38;5;124m'\u001b[39m)\n\u001b[0;32m----> 5\u001b[0m \u001b[43mheader\u001b[49m\u001b[38;5;241;43m.\u001b[39;49m\u001b[43mtobytes\u001b[49m\u001b[43m(\u001b[49m\u001b[43m)\u001b[49m\u001b[38;5;241;43m.\u001b[39;49m\u001b[43mdecode\u001b[49m\u001b[43m(\u001b[49m\u001b[38;5;124;43m'\u001b[39;49m\u001b[38;5;124;43mascii\u001b[39;49m\u001b[38;5;124;43m'\u001b[39;49m\u001b[43m)\u001b[49m\n",
      "\u001b[0;31mUnicodeDecodeError\u001b[0m: 'ascii' codec can't decode byte 0x8b in position 5: ordinal not in range(128)"
     ]
    }
   ],
   "source": [
    "# Converts np array to binary ascii representation\n",
    "# first 4 bytes should say 'RIFF' in ASCII as per The Canonical WAVE file format\n",
    "header[0:4].tobytes().decode('ascii')\n",
    "\n",
    "header.tobytes().decode('ascii')"
   ]
  },
  {
   "cell_type": "code",
   "execution_count": 5,
   "id": "2f33e8e2",
   "metadata": {},
   "outputs": [],
   "source": [
    "with wave.open(audio_file, 'rb') as fp:\n",
    "    num_chan = fp.getnchannels() # Returns number of audio channels (1 for mono, 2 for stereo).\n",
    "    samp_width = fp.getsampwidth() # Returns sample width in bytes.\n",
    "    frame_rate = fp.getframerate() # Returns sampling frequency.\n",
    "    num_frames = fp.getnframes() # Returns number of audio frames.\n",
    "    comp_type = fp.getcomptype() # Returns compression type ('NONE' is the only supported type).\n",
    "    frames = fp.readframes(num_frames) # Reads and returns at most n frames of audio, as a bytes object.\n",
    "    fp.rewind() # Rewind the file pointer to the beginning of the audio stream."
   ]
  },
  {
   "cell_type": "code",
   "execution_count": 6,
   "id": "e239780f",
   "metadata": {
    "scrolled": true
   },
   "outputs": [
    {
     "data": {
      "text/plain": [
       "2"
      ]
     },
     "execution_count": 6,
     "metadata": {},
     "output_type": "execute_result"
    }
   ],
   "source": [
    "num_chan"
   ]
  },
  {
   "cell_type": "code",
   "execution_count": 7,
   "id": "4821e514",
   "metadata": {},
   "outputs": [
    {
     "data": {
      "text/plain": [
       "bytes"
      ]
     },
     "execution_count": 7,
     "metadata": {},
     "output_type": "execute_result"
    }
   ],
   "source": [
    "type(frames)"
   ]
  }
 ],
 "metadata": {
  "kernelspec": {
   "display_name": "Python [conda env:PyTorchCourse] *",
   "language": "python",
   "name": "conda-env-PyTorchCourse-py"
  },
  "language_info": {
   "codemirror_mode": {
    "name": "ipython",
    "version": 3
   },
   "file_extension": ".py",
   "mimetype": "text/x-python",
   "name": "python",
   "nbconvert_exporter": "python",
   "pygments_lexer": "ipython3",
   "version": "3.9.13"
  }
 },
 "nbformat": 4,
 "nbformat_minor": 5
}
