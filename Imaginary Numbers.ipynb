{
 "cells": [
  {
   "cell_type": "markdown",
   "id": "63f03063",
   "metadata": {},
   "source": [
    "# Complex. Numbers."
   ]
  },
  {
   "cell_type": "markdown",
   "id": "13e755be",
   "metadata": {},
   "source": [
    "## De Moivre's Theorem\n",
    "\n",
    "### 0. $$e^{i\\pi} = 1 \\Longrightarrow C\\cdot e^{i\\pi} = C\\cdot 1$$\n",
    "\n",
    "### 1. $$e^{i\\theta} = (\\cos{\\theta} + i \\cdot \\sin{\\theta}) $$ $$e^{-i\\theta} = (\\cos{\\theta} - i \\cdot \\sin{\\theta})$$\n",
    "\n",
    "### 2. $$r \\cdot [\\cos{\\theta} + \\sin{\\theta}] = (a + bi)$$\n",
    "\n",
    "### 3. $$r \\cdot e^{i\\theta} = (a + bi)$$ $$r \\cdot e^{-i\\theta} = (a - bi) $$\n",
    "\n",
    "### 4. $$e^{i(\\theta k)} = (\\cos{\\theta k} + i \\cdot \\sin{\\theta k})$$ $$e^{-i(\\theta k)} = (\\cos{\\theta k} - i \\cdot \\sin{\\theta k})$$\n",
    "\n",
    "### Therefore\n",
    "\n",
    "# $$(a + bi)^{k} = r^{k} \\cdot [\\cos{(k \\cdot \\theta)} + i \\cdot \\sin{(k \\cdot \\theta)}] = r^{k} \\cdot e^{ik \\cdot \\theta}$$      $$(a - bi)^{k} = r^{k} \\cdot [\\cos{(k \\cdot \\theta)} - i \\cdot \\sin{(k \\cdot \\theta)}] = r^{k} \\cdot e^{-ik \\cdot \\theta}$$ \n"
   ]
  },
  {
   "cell_type": "markdown",
   "id": "9e9f73dd",
   "metadata": {},
   "source": [
    "\n",
    "### [1.] A means of representing an orthogonal basis vector pair. The two basis vectors are 1 about the real axis and another 1 about the complex axis. These basis vectors are interchangeably representable relative to the parametric theta as either a raw cosine function of theta about a real-axis and a raw sine of the same theta about the complex axis. The other representation is using the exponent $e$ to the $i \\cdot \\theta$. Both ways represent the same fundamental idea of a basis vector pair about a parametric variable."
   ]
  },
  {
   "cell_type": "markdown",
   "id": "6a54324e",
   "metadata": {},
   "source": [
    "complex plane being a way to map something to an orthagonal basis vector pair about a parametric variable"
   ]
  },
  {
   "cell_type": "markdown",
   "id": "6c56b62e",
   "metadata": {},
   "source": [
    "## Recall: added conjig pairs  "
   ]
  }
 ],
 "metadata": {
  "kernelspec": {
   "display_name": "Python [conda env:PyTorchCourse] *",
   "language": "python",
   "name": "conda-env-PyTorchCourse-py"
  },
  "language_info": {
   "codemirror_mode": {
    "name": "ipython",
    "version": 3
   },
   "file_extension": ".py",
   "mimetype": "text/x-python",
   "name": "python",
   "nbconvert_exporter": "python",
   "pygments_lexer": "ipython3",
   "version": "3.9.16"
  }
 },
 "nbformat": 4,
 "nbformat_minor": 5
}
